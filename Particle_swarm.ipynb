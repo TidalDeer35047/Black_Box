{
 "cells": [
  {
   "cell_type": "code",
   "execution_count": 128,
   "metadata": {},
   "outputs": [],
   "source": [
    "import numpy as np\n",
    "import pandas as pd\n",
    "import random\n",
    "from sklearn.preprocessing import StandardScaler\n",
    "from sklearn.model_selection import train_test_split\n",
    "import tensorflow as tf\n",
    "from tensorflow.keras.models import Sequential\n",
    "from tensorflow.keras.layers import Dense"
   ]
  },
  {
   "cell_type": "code",
   "execution_count": 129,
   "metadata": {},
   "outputs": [],
   "source": [
    "df = pd.read_csv(\"Bank_Personal_Loan_Modelling.csv\")\n",
    "df.drop(columns=['ID','ZIP Code'], inplace=True)\n",
    "y = df.pop('Personal Loan')\n",
    "x = df\n",
    "x = StandardScaler().fit_transform(x)"
   ]
  },
  {
   "cell_type": "code",
   "execution_count": 130,
   "metadata": {},
   "outputs": [],
   "source": [
    "x_tr, x_ts, y_tr, y_ts = train_test_split(x, y, test_size=0.25)"
   ]
  },
  {
   "cell_type": "code",
   "execution_count": 131,
   "metadata": {},
   "outputs": [],
   "source": [
    "from tensorflow.keras.models import Sequential\n",
    "from tensorflow.keras.layers import Dense\n",
    "model = Sequential()\n",
    "model.add(tf.keras.Input(shape=(11,)))\n",
    "model.add(Dense(32,activation='relu'))\n",
    "model.add(Dense(1,activation='sigmoid'))"
   ]
  },
  {
   "cell_type": "code",
   "execution_count": 132,
   "metadata": {},
   "outputs": [],
   "source": [
    "model.compile(loss='binary_crossentropy', optimizer='rmsprop', metrics=['accuracy'])"
   ]
  },
  {
   "cell_type": "code",
   "execution_count": null,
   "metadata": {},
   "outputs": [],
   "source": [
    "# Define the PSO parameters\n",
    "n_particles = 10\n",
    "n_iterations = 50\n",
    "c1 = 0.5\n",
    "c2 = 0.5\n",
    "w = 0.9\n",
    "v_max = 0.5\n"
   ]
  },
  {
   "cell_type": "code",
   "execution_count": null,
   "metadata": {},
   "outputs": [],
   "source": [
    "# Define the fitness function\n",
    "def fitness_function(weights):\n",
    "    # Split the flattened weights into weight matrices\n",
    "    shapes = [w.shape for w in model.get_weights()]\n",
    "    weights = np.split(weights, np.cumsum([np.prod(s) for s in shapes])[:-1])\n",
    "    weights = [w.reshape(s) for w, s in zip(weights, shapes)]\n",
    "\n",
    "    # Set the weights of the model\n",
    "    model.set_weights(weights)\n",
    "\n",
    "    # Evaluate the model\n",
    "    loss, acc = model.evaluate(x=x_ts, y=y_ts, verbose=0)\n",
    "    return loss"
   ]
  },
  {
   "cell_type": "code",
   "execution_count": null,
   "metadata": {},
   "outputs": [],
   "source": [
    "# Initialize the particles\n",
    "positions = np.random.uniform(-1, 1, size=(n_particles, 417))\n",
    "velocities = np.zeros_like(positions)\n",
    "\n",
    "# Initialize the global best position and fitness\n",
    "global_best_position = None\n",
    "global_best_fitness = np.inf"
   ]
  },
  {
   "cell_type": "code",
   "execution_count": null,
   "metadata": {},
   "outputs": [],
   "source": [
    "# Run the PSO algorithm\n",
    "for i in range(n_iterations):\n",
    "    # Evaluate the fitness of each particle\n",
    "    fitness_values = np.array([fitness_function(p) for p in positions])\n",
    "    \n",
    "    # Update the global best position and fitness\n",
    "    global_best_index = np.argmin(fitness_values)\n",
    "    if fitness_values[global_best_index] < global_best_fitness:\n",
    "        global_best_fitness = fitness_values[global_best_index]\n",
    "        global_best_position = positions[global_best_index]\n",
    "        \n",
    "    # Update the velocities and positions of each particle\n",
    "    for j in range(n_particles):\n",
    "        r1 = np.random.uniform(0, 1)\n",
    "        r2 = np.random.uniform(0, 1)\n",
    "        \n",
    "        local_best_position = positions[j]\n",
    "        local_best_fitness = fitness_values[j]\n",
    "        \n",
    "        velocity = w * velocities[j] + c1 * r1 * (local_best_position - positions[j]) + c2 * r2 * (global_best_position - positions[j])\n",
    "        velocity = np.clip(velocity, -v_max, v_max)\n",
    "        \n",
    "        positions[j] += velocity\n",
    "        positions[j] = np.clip(positions[j], -1, 1)"
   ]
  },
  {
   "cell_type": "code",
   "execution_count": 133,
   "metadata": {},
   "outputs": [
    {
     "name": "stdout",
     "output_type": "stream",
     "text": [
      "Epoch 1/50\n",
      "118/118 [==============================] - 0s 983us/step - loss: 0.4183 - accuracy: 0.8693\n",
      "Epoch 2/50\n",
      "118/118 [==============================] - 0s 874us/step - loss: 0.2097 - accuracy: 0.9317\n",
      "Epoch 3/50\n",
      "118/118 [==============================] - 0s 884us/step - loss: 0.1512 - accuracy: 0.9477\n",
      "Epoch 4/50\n",
      "118/118 [==============================] - 0s 904us/step - loss: 0.1267 - accuracy: 0.9576\n",
      "Epoch 5/50\n",
      "118/118 [==============================] - 0s 889us/step - loss: 0.1123 - accuracy: 0.9616\n",
      "Epoch 6/50\n",
      "118/118 [==============================] - 0s 967us/step - loss: 0.1024 - accuracy: 0.9664\n",
      "Epoch 7/50\n",
      "118/118 [==============================] - 0s 1ms/step - loss: 0.0952 - accuracy: 0.9683\n",
      "Epoch 8/50\n",
      "118/118 [==============================] - 0s 1ms/step - loss: 0.0900 - accuracy: 0.9691\n",
      "Epoch 9/50\n",
      "118/118 [==============================] - 0s 893us/step - loss: 0.0854 - accuracy: 0.9731\n",
      "Epoch 10/50\n",
      "118/118 [==============================] - 0s 846us/step - loss: 0.0817 - accuracy: 0.9739\n",
      "Epoch 11/50\n",
      "118/118 [==============================] - 0s 911us/step - loss: 0.0788 - accuracy: 0.9741\n",
      "Epoch 12/50\n",
      "118/118 [==============================] - 0s 922us/step - loss: 0.0759 - accuracy: 0.9755\n",
      "Epoch 13/50\n",
      "118/118 [==============================] - 0s 888us/step - loss: 0.0733 - accuracy: 0.9760\n",
      "Epoch 14/50\n",
      "118/118 [==============================] - 0s 871us/step - loss: 0.0710 - accuracy: 0.9771\n",
      "Epoch 15/50\n",
      "118/118 [==============================] - 0s 890us/step - loss: 0.0691 - accuracy: 0.9779\n",
      "Epoch 16/50\n",
      "118/118 [==============================] - 0s 914us/step - loss: 0.0675 - accuracy: 0.9784\n",
      "Epoch 17/50\n",
      "118/118 [==============================] - 0s 1ms/step - loss: 0.0660 - accuracy: 0.9784\n",
      "Epoch 18/50\n",
      "118/118 [==============================] - 0s 886us/step - loss: 0.0646 - accuracy: 0.9789\n",
      "Epoch 19/50\n",
      "118/118 [==============================] - 0s 807us/step - loss: 0.0633 - accuracy: 0.9792\n",
      "Epoch 20/50\n",
      "118/118 [==============================] - 0s 811us/step - loss: 0.0621 - accuracy: 0.9789\n",
      "Epoch 21/50\n",
      "118/118 [==============================] - 0s 859us/step - loss: 0.0612 - accuracy: 0.9813\n",
      "Epoch 22/50\n",
      "118/118 [==============================] - 0s 874us/step - loss: 0.0598 - accuracy: 0.9803\n",
      "Epoch 23/50\n",
      "118/118 [==============================] - 0s 859us/step - loss: 0.0592 - accuracy: 0.9811\n",
      "Epoch 24/50\n",
      "118/118 [==============================] - 0s 883us/step - loss: 0.0583 - accuracy: 0.9808\n",
      "Epoch 25/50\n",
      "118/118 [==============================] - 0s 853us/step - loss: 0.0574 - accuracy: 0.9813\n",
      "Epoch 26/50\n",
      "118/118 [==============================] - 0s 876us/step - loss: 0.0567 - accuracy: 0.9813\n",
      "Epoch 27/50\n",
      "118/118 [==============================] - 0s 841us/step - loss: 0.0561 - accuracy: 0.9816\n",
      "Epoch 28/50\n",
      "118/118 [==============================] - 0s 838us/step - loss: 0.0552 - accuracy: 0.9821\n",
      "Epoch 29/50\n",
      "118/118 [==============================] - 0s 841us/step - loss: 0.0544 - accuracy: 0.9816\n",
      "Epoch 30/50\n",
      "118/118 [==============================] - 0s 836us/step - loss: 0.0539 - accuracy: 0.9824\n",
      "Epoch 31/50\n",
      "118/118 [==============================] - 0s 840us/step - loss: 0.0536 - accuracy: 0.9835\n",
      "Epoch 32/50\n",
      "118/118 [==============================] - 0s 855us/step - loss: 0.0529 - accuracy: 0.9819\n",
      "Epoch 33/50\n",
      "118/118 [==============================] - 0s 852us/step - loss: 0.0521 - accuracy: 0.9835\n",
      "Epoch 34/50\n",
      "118/118 [==============================] - 0s 851us/step - loss: 0.0514 - accuracy: 0.9827\n",
      "Epoch 35/50\n",
      "118/118 [==============================] - 0s 865us/step - loss: 0.0512 - accuracy: 0.9832\n",
      "Epoch 36/50\n",
      "118/118 [==============================] - 0s 857us/step - loss: 0.0506 - accuracy: 0.9843\n",
      "Epoch 37/50\n",
      "118/118 [==============================] - 0s 889us/step - loss: 0.0499 - accuracy: 0.9837\n",
      "Epoch 38/50\n",
      "118/118 [==============================] - 0s 848us/step - loss: 0.0497 - accuracy: 0.9845\n",
      "Epoch 39/50\n",
      "118/118 [==============================] - 0s 898us/step - loss: 0.0490 - accuracy: 0.9845\n",
      "Epoch 40/50\n",
      "118/118 [==============================] - 0s 873us/step - loss: 0.0486 - accuracy: 0.9851\n",
      "Epoch 41/50\n",
      "118/118 [==============================] - 0s 876us/step - loss: 0.0481 - accuracy: 0.9864\n",
      "Epoch 42/50\n",
      "118/118 [==============================] - 0s 859us/step - loss: 0.0477 - accuracy: 0.9851\n",
      "Epoch 43/50\n",
      "118/118 [==============================] - 0s 828us/step - loss: 0.0472 - accuracy: 0.9848\n",
      "Epoch 44/50\n",
      "118/118 [==============================] - 0s 871us/step - loss: 0.0470 - accuracy: 0.9864\n",
      "Epoch 45/50\n",
      "118/118 [==============================] - 0s 852us/step - loss: 0.0463 - accuracy: 0.9867\n",
      "Epoch 46/50\n",
      "118/118 [==============================] - 0s 888us/step - loss: 0.0458 - accuracy: 0.9869\n",
      "Epoch 47/50\n",
      "118/118 [==============================] - 0s 894us/step - loss: 0.0461 - accuracy: 0.9853\n",
      "Epoch 48/50\n",
      "118/118 [==============================] - 0s 893us/step - loss: 0.0451 - accuracy: 0.9872\n",
      "Epoch 49/50\n",
      "118/118 [==============================] - 0s 841us/step - loss: 0.0455 - accuracy: 0.9864\n",
      "Epoch 50/50\n",
      "118/118 [==============================] - 0s 850us/step - loss: 0.0445 - accuracy: 0.9875\n"
     ]
    },
    {
     "data": {
      "text/plain": [
       "<keras.callbacks.History at 0x7f4230807250>"
      ]
     },
     "execution_count": 133,
     "metadata": {},
     "output_type": "execute_result"
    }
   ],
   "source": [
    "model.fit(x=x_tr, y=y_tr, verbose=1, epochs=50)"
   ]
  },
  {
   "cell_type": "code",
   "execution_count": 134,
   "metadata": {},
   "outputs": [
    {
     "name": "stdout",
     "output_type": "stream",
     "text": [
      "Test accuracy: 97.6800%\n"
     ]
    }
   ],
   "source": [
    "# Accuracy without using PSO\n",
    "accuracy = model.evaluate(x=x_ts, y=y_ts, verbose=0)[1]\n",
    "print(f\"Test accuracy: {accuracy*100:.4f}%\")"
   ]
  },
  {
   "cell_type": "code",
   "execution_count": null,
   "metadata": {},
   "outputs": [],
   "source": [
    "# Accuracy using PSO\n",
    "accuracy = model.evaluate(x=x_ts, y=y_ts, verbose=0)[1]\n",
    "print(f\"Test accuracy: {accuracy*100:.4f}%\")"
   ]
  }
 ],
 "metadata": {
  "kernelspec": {
   "display_name": "base",
   "language": "python",
   "name": "python3"
  },
  "language_info": {
   "codemirror_mode": {
    "name": "ipython",
    "version": 3
   },
   "file_extension": ".py",
   "mimetype": "text/x-python",
   "name": "python",
   "nbconvert_exporter": "python",
   "pygments_lexer": "ipython3",
   "version": "3.9.12"
  },
  "orig_nbformat": 4
 },
 "nbformat": 4,
 "nbformat_minor": 2
}
