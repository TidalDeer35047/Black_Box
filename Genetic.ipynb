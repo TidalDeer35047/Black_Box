{
 "cells": [
  {
   "cell_type": "code",
   "execution_count": null,
   "metadata": {},
   "outputs": [],
   "source": [
    "import numpy as np\n",
    "import pandas as pd\n",
    "import random\n",
    "from sklearn.preprocessing import StandardScaler\n",
    "from sklearn.model_selection import train_test_split\n",
    "import tensorflow as tf\n",
    "from tensorflow.keras.models import Sequential\n",
    "from tensorflow.keras.layers import Dense"
   ]
  },
  {
   "cell_type": "code",
   "execution_count": null,
   "metadata": {},
   "outputs": [],
   "source": [
    "df = pd.read_csv(\"Bank_Personal_Loan_Modelling.csv\")\n",
    "df.drop(columns=['ID','ZIP Code'], inplace=True)\n",
    "y = df.pop('Personal Loan')\n",
    "x = df\n",
    "x = StandardScaler().fit_transform(x)"
   ]
  },
  {
   "cell_type": "code",
   "execution_count": null,
   "metadata": {},
   "outputs": [],
   "source": [
    "x_tr, x_ts, y_tr, y_ts = train_test_split(x, y, test_size=0.25)"
   ]
  },
  {
   "cell_type": "code",
   "execution_count": null,
   "metadata": {},
   "outputs": [],
   "source": [
    "def fitness_function(individual):\n",
    "    model.set_weights(individual)\n",
    "\n",
    "    _, accuracy = model.evaluate(x_ts, y_ts, verbose=0)\n",
    "\n",
    "    return accuracy\n",
    "\n",
    "POPULATION_SIZE = 20\n",
    "NUM_GENERATIONS = 50\n",
    "MUTATION_RATE = 0.1\n",
    "SELECTION_CRITERIA = 'roulette wheel'\n",
    "\n",
    "\n",
    "def roulette_wheel_selection(fitness_scores, num_parents):\n",
    "    fitness_sum = np.sum(fitness_scores)\n",
    "    fitness_probs = fitness_scores / fitness_sum\n",
    "    parents_indices = np.random.choice(range(len(fitness_probs)), size=num_parents, replace=False, p=fitness_probs)\n",
    "    return parents_indices\n",
    "\n",
    "\n",
    "def crossover(parent1, parent2):\n",
    "\n",
    "    offspring = np.empty_like(parent1)\n",
    "\n",
    "    for index in np.ndindex(parent1.shape):\n",
    "        if np.random.rand() < 0.5:\n",
    "            offspring[index] = parent1[index]\n",
    "        else:\n",
    "            offspring[index] = parent2[index]\n",
    "\n",
    "    return offspring\n",
    "\n",
    "\n",
    "\n",
    "def mutate(individual, mutation_rate):\n",
    "    mutated_individual = []\n",
    "    for i in range(len(individual)):\n",
    "        if np.random.uniform() < mutation_rate:\n",
    "            mutated_gene = np.random.normal(size=individual[i].shape)\n",
    "        else:\n",
    "            mutated_gene = individual[i]\n",
    "        mutated_individual.append(mutated_gene)\n",
    "    return mutated_individual\n",
    "\n",
    "model = Sequential()\n",
    "model.add(tf.keras.Input(shape=(11,)))\n",
    "model.add(Dense(32,activation='relu'))\n",
    "model.add(Dense(1,activation='sigmoid'))\n",
    "model.compile(loss='binary_crossentropy', optimizer='rmsprop', metrics=['accuracy'])\n",
    "\n",
    "population = []\n",
    "for i in range(POPULATION_SIZE):\n",
    "    weights = model.get_weights()\n",
    "    for j in range(len(weights)):\n",
    "        weights[j] = np.random.normal(size=weights[j].shape)\n",
    "    population.append(weights)\n",
    "\n",
    "def create_individual():\n",
    "    return individual\n",
    "\n",
    "\n",
    "for generation in range(NUM_GENERATIONS):\n",
    "    fitness_scores = [fitness_function(individual) for individual in population]\n",
    "\n",
    "    sorted_indices = np.argsort(fitness_scores)[::-1]\n",
    "\n",
    "    if sorted_indices.size > 0:\n",
    "        population = [population[index] for index in sorted_indices[:POPULATION_SIZE]]\n",
    "    else:\n",
    "        population = [create_individual() for _ in range(POPULATION_SIZE)]\n",
    "\n",
    "    new_population = []\n",
    "    for _ in range(POPULATION_SIZE):\n",
    "        parent1, parent2 = np.random.choice(population, size=2, replace=False)\n",
    "\n",
    "        child = []\n",
    "        for gene_index in range(len(parent1)):\n",
    "            if np.random.random() < 0.5:\n",
    "                child.append(parent1[gene_index])\n",
    "            else:\n",
    "                child.append(parent2[gene_index])\n",
    "\n",
    "        for gene_index in range(len(child)):\n",
    "            if np.random.random() < MUTATION_RATE:\n",
    "                child[gene_index] = mutate(child[gene_index])\n",
    "\n",
    "        new_population.append(child)\n",
    "\n",
    "    population = new_population"
   ]
  },
  {
   "cell_type": "code",
   "execution_count": null,
   "metadata": {},
   "outputs": [],
   "source": [
    "model.set_weights(population[0])"
   ]
  },
  {
   "cell_type": "code",
   "execution_count": null,
   "metadata": {},
   "outputs": [],
   "source": [
    "from tensorflow.keras.models import Sequential\n",
    "from tensorflow.keras.layers import Dense\n",
    "model = Sequential()\n",
    "model.add(tf.keras.Input(shape=(11,)))\n",
    "model.add(Dense(32,activation='relu'))\n",
    "model.add(Dense(1,activation='sigmoid'))\n",
    "model.compile(loss='binary_crossentropy', optimizer='rmsprop', metrics=['accuracy'])"
   ]
  },
  {
   "cell_type": "code",
   "execution_count": null,
   "metadata": {},
   "outputs": [],
   "source": [
    "model.fit(x=x_tr, y=y_tr, verbose=1, epochs=50)"
   ]
  },
  {
   "cell_type": "code",
   "execution_count": null,
   "metadata": {},
   "outputs": [],
   "source": [
    "# Accuracy using Genetic Algorithm\n",
    "accuracy = model.evaluate(x=x_ts, y=y_ts, verbose=0)[1]\n",
    "print(f\"Test accuracy: {accuracy*100:.4f}%\")"
   ]
  }
 ],
 "metadata": {
  "kernelspec": {
   "display_name": "base",
   "language": "python",
   "name": "python3"
  },
  "language_info": {
   "codemirror_mode": {
    "name": "ipython",
    "version": 3
   },
   "file_extension": ".py",
   "mimetype": "text/x-python",
   "name": "python",
   "nbconvert_exporter": "python",
   "pygments_lexer": "ipython3",
   "version": "3.9.12"
  },
  "orig_nbformat": 4
 },
 "nbformat": 4,
 "nbformat_minor": 2
}
