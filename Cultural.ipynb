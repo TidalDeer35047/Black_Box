{
 "cells": [
  {
   "cell_type": "code",
   "execution_count": null,
   "metadata": {},
   "outputs": [],
   "source": [
    "import numpy as np\n",
    "import pandas as pd\n",
    "import random\n",
    "from sklearn.preprocessing import StandardScaler\n",
    "from sklearn.model_selection import train_test_split\n",
    "import tensorflow as tf\n",
    "from tensorflow.keras.models import Sequential\n",
    "from tensorflow.keras.layers import Dense\n",
    "from tensorflow.keras import optimizers"
   ]
  },
  {
   "cell_type": "code",
   "execution_count": null,
   "metadata": {},
   "outputs": [],
   "source": [
    "data=pd.read_csv(\"Bank_Personal_Loan_Modelling.csv\")\n",
    "data.drop([\"ZIP Code\",\"ID\",\"CD Account\",\"Securities Account\",\"Personal Loan\"],axis=1,inplace=True)\n",
    "y = data.iloc[:,-1].values\n",
    "x = data.iloc[:,:-1].values"
   ]
  },
  {
   "cell_type": "code",
   "execution_count": null,
   "metadata": {},
   "outputs": [],
   "source": [
    "x_tr, x_ts, y_tr, y_ts = train_test_split(x, y, test_size=0.25)"
   ]
  },
  {
   "cell_type": "code",
   "execution_count": null,
   "metadata": {},
   "outputs": [],
   "source": [
    "global_knowledge = []\n",
    "local_knowledge = []\n",
    "\n",
    "\n",
    "population_size = 20\n",
    "\n",
    "\n",
    "num_iterations = 100\n",
    "\n",
    "\n",
    "learning_rate = 0.01\n",
    "\n",
    "\n",
    "def evaluate_fitness(individual):\n",
    "    # Train the model\n",
    "    model = Sequential()\n",
    "    model.add(Dense(32, input_shape=(8,), activation='relu'))\n",
    "    model.add(Dense(1, activation='sigmoid'))\n",
    "    model.compile(loss='binary_crossentropy', optimizer=optimizers.Adam(lr=learning_rate), metrics=['accuracy'])\n",
    "    model.fit(x_tr, y_tr, epochs=10, batch_size=10, verbose=0)\n",
    "    \n",
    "    loss, accuracy = model.evaluate(x_ts, y_ts, verbose=0)\n",
    "    \n",
    "    return accuracy"
   ]
  },
  {
   "cell_type": "code",
   "execution_count": null,
   "metadata": {},
   "outputs": [],
   "source": [
    "def initialize_population():\n",
    "    population = []\n",
    "    for i in range(population_size):\n",
    "        weights = []\n",
    "        for j in range(len(model.get_weights())):\n",
    "            shape = model.get_weights()[j].shape\n",
    "            weights.append(np.random.normal(0, 1, shape))\n",
    "        population.append(weights)\n",
    "    return population\n"
   ]
  },
  {
   "cell_type": "code",
   "execution_count": null,
   "metadata": {},
   "outputs": [],
   "source": [
    "def update_global_knowledge(population):\n",
    "    global_knowledge.extend(population)\n",
    "    \n",
    "\n",
    "def update_local_knowledge(individual):\n",
    "    local_knowledge.append(individual)\n",
    "    \n",
    "\n",
    "def select_individual(population):\n",
    "    return random.choice(population)\n"
   ]
  },
  {
   "cell_type": "code",
   "execution_count": null,
   "metadata": {},
   "outputs": [],
   "source": [
    "def mutate(individual):\n",
    "    for i in range(len(individual)):\n",
    "        individual[i] += np.random.normal(0, 1, individual[i].shape)\n",
    "    return individual"
   ]
  },
  {
   "cell_type": "code",
   "execution_count": null,
   "metadata": {},
   "outputs": [],
   "source": [
    "def cultural_algorithm():\n",
    "    # Initialize the population\n",
    "    population = initialize_population()\n",
    "    \n",
    "    for iteration in range(num_iterations):\n",
    "        update_global_knowledge(population)\n",
    "        \n",
    "        fitness = []\n",
    "        for individual in population:\n",
    "            fitness.append(evaluate_fitness(individual))\n",
    "        \n",
    "        for i in range(len(population)):\n",
    "            update_local_knowledge(population[i])\n",
    "            \n",
    "        individual1 = select_individual(population)\n",
    "        individual2 = select_individual(population)\n",
    "        \n",
    "        new_individual = []\n",
    "        for i in range(len(individual1)):\n",
    "            if np.random.rand() < 0.5:\n",
    "                new_individual.append(individual1[i])\n",
    "            else:\n",
    "                new_individual.append(individual2[i])\n",
    "                \n",
    "        new_individual = mutate(new_individual)\n",
    "        \n",
    "        new_fitness = evaluate_fitness(new_individual)\n",
    "        \n",
    "        min_fitness_index = np.argmin(fitness)\n",
    "        if new_fitness > fitness[min_fitness_index]:\n",
    "            population[min_fitness_index] = new_individual\n",
    "            \n",
    "    best_individual = max(population, key=lambda x: evaluate_fitness)\n",
    "    return best_individual"
   ]
  },
  {
   "cell_type": "code",
   "execution_count": null,
   "metadata": {},
   "outputs": [],
   "source": [
    "    model = Sequential()\n",
    "    model.add(Dense(32, input_shape=(8,), activation='relu'))\n",
    "    model.add(Dense(1, activation='sigmoid'))\n",
    "    model.compile(loss='binary_crossentropy', optimizer=optimizers.Adam(lr=learning_rate), metrics=['accuracy'])"
   ]
  },
  {
   "cell_type": "code",
   "execution_count": null,
   "metadata": {},
   "outputs": [],
   "source": [
    "best_individual = cultural_algorithm()"
   ]
  },
  {
   "cell_type": "code",
   "execution_count": 15,
   "metadata": {},
   "outputs": [
    {
     "name": "stdout",
     "output_type": "stream",
     "text": [
      "Test accuracy: 95.4400%\n"
     ]
    }
   ],
   "source": [
    "# Accuracy using Cultural Algorithm\n",
    "accuracy = model.evaluate(x=x_ts, y=y_ts, verbose=0)[1]\n",
    "print(f\"Test accuracy: {best_individual:.4f}%\")"
   ]
  }
 ],
 "metadata": {
  "kernelspec": {
   "display_name": "base",
   "language": "python",
   "name": "python3"
  },
  "language_info": {
   "codemirror_mode": {
    "name": "ipython",
    "version": 3
   },
   "file_extension": ".py",
   "mimetype": "text/x-python",
   "name": "python",
   "nbconvert_exporter": "python",
   "pygments_lexer": "ipython3",
   "version": "3.9.12"
  },
  "orig_nbformat": 4
 },
 "nbformat": 4,
 "nbformat_minor": 2
}
